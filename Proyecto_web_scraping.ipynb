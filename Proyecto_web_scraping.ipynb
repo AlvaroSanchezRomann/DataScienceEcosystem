{
  "nbformat": 4,
  "nbformat_minor": 0,
  "metadata": {
    "colab": {
      "provenance": [],
      "authorship_tag": "ABX9TyNxUTGORcfKJeorJtX84Y3S",
      "include_colab_link": true
    },
    "kernelspec": {
      "name": "python3",
      "display_name": "Python 3"
    },
    "language_info": {
      "name": "python"
    }
  },
  "cells": [
    {
      "cell_type": "markdown",
      "metadata": {
        "id": "view-in-github",
        "colab_type": "text"
      },
      "source": [
        "<a href=\"https://colab.research.google.com/github/AlvaroSanchezRomann/DataScienceEcosystem/blob/main/Proyecto_web_scraping.ipynb\" target=\"_parent\"><img src=\"https://colab.research.google.com/assets/colab-badge.svg\" alt=\"Open In Colab\"/></a>"
      ]
    },
    {
      "cell_type": "code",
      "execution_count": 1,
      "metadata": {
        "id": "YvMaNiRUTJue",
        "colab": {
          "base_uri": "https://localhost:8080/"
        },
        "outputId": "e1477cc7-5aa5-419f-c872-c14ce2ad6d14"
      },
      "outputs": [
        {
          "output_type": "stream",
          "name": "stdout",
          "text": [
            "           Date      Open      High       Low     Close Adj Close       Volume\n",
            "0  Jan 01, 2021  3,270.00  3,363.89  3,086.00  3,206.20  3,206.20   71,528,900\n",
            "1  Dec 01, 2020  3,188.50  3,350.65  3,072.82  3,256.93  3,256.93   77,556,200\n",
            "2  Nov 01, 2020  3,061.74  3,366.80  2,950.12  3,168.04  3,168.04   90,810,500\n",
            "3  Oct 01, 2020  3,208.00  3,496.24  3,019.00  3,036.15  3,036.15  116,226,100\n",
            "4  Sep 01, 2020  3,489.58  3,552.25  2,871.00  3,148.73  3,148.73  115,899,300\n",
            "Date         Sep 01, 2020\n",
            "Open             3,489.58\n",
            "High             3,552.25\n",
            "Low              2,871.00\n",
            "Close            3,148.73\n",
            "Adj Close        3,148.73\n",
            "Volume        115,899,300\n",
            "Name: 4, dtype: object\n"
          ]
        }
      ],
      "source": [
        "import pandas as pd\n",
        "from bs4 import BeautifulSoup\n",
        "import requests\n",
        "\n",
        "# URL del sitio web con la tabla de datos (ejemplo ficticio)\n",
        "url = \"https://cf-courses-data.s3.us.cloud-object-storage.appdomain.cloud/IBMDeveloperSkillsNetwork-PY0220EN-SkillsNetwork/labs/project/amazon_data_webpage.html\"\n",
        "\n",
        "# Obtener el HTML de la página\n",
        "respuesta = requests.get(url)\n",
        "soup = BeautifulSoup(respuesta.text, \"html.parser\")\n",
        "\n",
        "# Crear una lista para almacenar los datos\n",
        "data_list = []\n",
        "\n",
        "# Buscar todas las filas de la tabla dentro del <tbody>\n",
        "for row in soup.find(\"tbody\").find_all(\"tr\"):\n",
        "    col = row.find_all(\"td\")\n",
        "\n",
        "    # Extraer datos de cada celda\n",
        "    date = col[0].text.strip()\n",
        "    Open = col[1].text.strip()\n",
        "    high = col[2].text.strip()\n",
        "    low = col[3].text.strip()\n",
        "    close = col[4].text.strip()\n",
        "    adj_close = col[5].text.strip()\n",
        "    volume = col[6].text.strip()\n",
        "\n",
        "    # Agregar datos a la lista\n",
        "    data_list.append({\n",
        "        \"Date\": date,\n",
        "        \"Open\": Open,\n",
        "        \"High\": high,\n",
        "        \"Low\": low,\n",
        "        \"Close\": close,\n",
        "        \"Adj Close\": adj_close,\n",
        "        \"Volume\": volume\n",
        "    })\n",
        "\n",
        "# Convertir la lista en un DataFrame\n",
        "amazon_data = pd.DataFrame(data_list)\n",
        "\n",
        "# Mostrar las primeras 5 filas\n",
        "print(amazon_data.head())\n",
        "\n",
        "# Mostrar la quinta fila correctamente\n",
        "print(amazon_data.iloc[4])\n"
      ]
    },
    {
      "cell_type": "code",
      "source": [
        "# Obtener los nombres de las columnas\n",
        "print(amazon_data.columns)"
      ],
      "metadata": {
        "colab": {
          "base_uri": "https://localhost:8080/"
        },
        "id": "immKlaVuX-LC",
        "outputId": "5c218d5e-ef5e-4e99-9584-fbad36b3c971"
      },
      "execution_count": 2,
      "outputs": [
        {
          "output_type": "stream",
          "name": "stdout",
          "text": [
            "Index(['Date', 'Open', 'High', 'Low', 'Close', 'Adj Close', 'Volume'], dtype='object')\n"
          ]
        }
      ]
    },
    {
      "cell_type": "code",
      "source": [
        "# Obtener el valor de la columna 'Open' en la última fila\n",
        "print(amazon_data['Open'].iloc[-1])\n"
      ],
      "metadata": {
        "colab": {
          "base_uri": "https://localhost:8080/"
        },
        "id": "po8BC01oYA2K",
        "outputId": "7274cd8b-5fc6-49ed-ee53-3b0805cadd67"
      },
      "execution_count": 4,
      "outputs": [
        {
          "output_type": "stream",
          "name": "stdout",
          "text": [
            "656.29\n"
          ]
        }
      ]
    }
  ]
}